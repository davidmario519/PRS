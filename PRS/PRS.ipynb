{
 "cells": [
  {
   "cell_type": "markdown",
   "metadata": {},
   "source": [
    "# Playlist Reccommandation System(PRS)\n",
    "\n",
    "🎧 좋아하거나 관심있는 플레이리스트 유튜브 채널과 유사한 채널을 추천해드립니다."
   ]
  },
  {
   "cell_type": "markdown",
   "metadata": {},
   "source": [
    "# 데이터 수집 (실행 X)\n",
    "- CSV 파일이 있는 경우 skip"
   ]
  },
  {
   "cell_type": "markdown",
   "metadata": {},
   "source": [
    "## 개발 과정"
   ]
  },
  {
   "cell_type": "code",
   "execution_count": null,
   "metadata": {},
   "outputs": [],
   "source": [
    "# selenium의 webdriver를 사용하기 위한 import\n",
    "from selenium import webdriver\n",
    "\n",
    "# selenium으로 무엇인가 입력하기 위한 import\n",
    "from selenium.webdriver.common.keys import Keys\n",
    "from selenium.webdriver.common.by import By  # By 클래스 임포트\n",
    "# 페이지 로딩을 기다리는데에 사용할 time 모듈 import\n",
    "import time\n",
    "\n",
    "# 크롬드라이버 실행\n",
    "driver = webdriver.Chrome() \n",
    "\n",
    "#크롬 드라이버에 url 주소 넣고 실행\n",
    "driver.get('https://plpl.kr/datalab/1732715075545x231278615038836840?tab=channel')\n",
    "# https://plpl.kr/datalab/1732715075545x231278615038836840?tab=channel\n",
    "\n",
    "time.sleep(1)\n",
    "\n",
    "# 검색어 창을 찾아 search 변수에 저장 (By.CLASS_NAME 방식)\n",
    "id_box = driver.find_element(By.XPATH, '/html/body/div[2]/div[2]/input[1]')\n",
    "pw_box = driver.find_element(By.XPATH, '/html/body/div[2]/div[2]/input[2]')\n",
    "login_button = driver.find_element(By.XPATH, '/html/body/div[2]/div[2]/button')\n",
    "time.sleep(1)\n",
    "\n",
    "id_box.send_keys('davidmario519@gmail.com')\n",
    "time.sleep(3)\n",
    "pw_box.send_keys('mariodavid1946')\n",
    "time.sleep(3)\n",
    "login_button.click()\n",
    "\n",
    "time.sleep(3)\n",
    "\n",
    "\n",
    "# 텍스트 추출\n",
    "channel_names = driver.find_elements(By.CLASS_NAME, \"bubble-element.Text.cmbiy\")\n",
    "\n",
    "for i in channel_names:\n",
    "    title = i.text\n",
    "    print(title)"
   ]
  },
  {
   "cell_type": "markdown",
   "metadata": {},
   "source": [
    "수동 로그인 후 실행"
   ]
  },
  {
   "cell_type": "code",
   "execution_count": null,
   "metadata": {},
   "outputs": [
    {
     "name": "stdout",
     "output_type": "stream",
     "text": [
      "때껄룩ᴛᴀᴋᴇ ᴀ ʟᴏᴏᴋ\n",
      "1,930,000\n"
     ]
    }
   ],
   "source": [
    "# Ver.1\n",
    "\n",
    "from selenium import webdriver\n",
    "from selenium.webdriver.common.by import By\n",
    "import time\n",
    "\n",
    "# 크롬 드라이버 실행\n",
    "driver = webdriver.Chrome()\n",
    "\n",
    "# 로그인 페이지 열기\n",
    "driver.get(\"https://plpl.kr/\")\n",
    "\n",
    "# 사용자에게 로그인 대기\n",
    "input(\"로그인을 완료한 후 Enter를 누르세요...\")\n",
    "\n",
    "# 로그인 후 데이터 크롤링\n",
    "driver.get(\"https://plpl.kr/datalab/1732715075545x231278615038836840?tab=channel\")\n",
    "time.sleep(3)\n",
    "\n",
    "element_name = driver.find_element(By.XPATH, '/html/body/div[2]/div[3]/div[1]/div/div/div[1]/div[2]/div[1]/div[2]/div')\n",
    "element_subscribers = driver.find_element(By.XPATH, '/html/body/div[2]/div[3]/div[1]/div/div/div[1]/div[2]/div[2]/div')\n",
    "\n",
    "time.sleep(1)\n",
    "\n",
    "print(element_name.text)\n",
    "print(element_subscribers.text)\n",
    "\n",
    "# ########################################\n",
    "# # HTML 가져오기\n",
    "# html = driver.page_source\n",
    "\n",
    "# # HTML 저장\n",
    "# with open(\"website_dynamic.html\", \"w\", encoding=\"utf-8\") as file:\n",
    "#     file.write(html)\n",
    "#     print(\"HTML이 저장되었습니다.\")\n",
    "# ########################################\n",
    "\n",
    "# table = driver.find_elements(By.CLASS_NAME, \"bubble-element RepeatingGroup cmbir bubble-rg\")\n",
    "# print(table)\n",
    "\n",
    "# driver.quit()\n"
   ]
  },
  {
   "cell_type": "code",
   "execution_count": null,
   "metadata": {},
   "outputs": [],
   "source": [
    "# Ver.2\n",
    "\n",
    "from selenium import webdriver\n",
    "from selenium.webdriver.common.by import By\n",
    "import time\n",
    "\n",
    "# 크롬 드라이버 실행\n",
    "driver = webdriver.Chrome()\n",
    "\n",
    "# 로그인 페이지 열기\n",
    "driver.get(\"https://plpl.kr/\")\n",
    "\n",
    "# 사용자에게 로그인 대기\n",
    "input(\"로그인을 완료한 후 Enter를 누르세요...\")\n",
    "\n",
    "# 로그인 후 데이터 크롤링\n",
    "driver.get(\"https://plpl.kr/datalab/1732715075545x231278615038836840?tab=channel\")\n",
    "time.sleep(3)\n",
    "\n",
    "channel = {}\n",
    "\n",
    "for i in range(7):\n",
    "    if i == 0:\n",
    "        element = driver.find_element(By.XPATH, f'/html/body/div[2]/div[3]/div[1]/div/div/div[1]/div[2]/div[{i+1}]/div[2]/div')\n",
    "    else:\n",
    "        element = driver.find_element(By.XPATH, f'/html/body/div[2]/div[3]/div[1]/div/div/div[1]/div[2]/div[{i+1}]/div')\n",
    "    \n",
    "    data = element.text\n",
    "    \n",
    "    if isinstance(data, str) and data.replace(',', '').isdigit():\n",
    "        data = int(data.replace(',', ''))\n",
    "    \n",
    "    channel[i] = data\n",
    "\n",
    "channel"
   ]
  },
  {
   "cell_type": "code",
   "execution_count": null,
   "metadata": {},
   "outputs": [],
   "source": [
    "0 channel_names = '/html/body/div[2]/div[3]/div[1]/div/div/div[1]/div[2]/div[1]/div[2]/div'\n",
    "1 subscribers =   '/html/body/div[2]/div[3]/div[1]/div/div/div[1]/div[2]/div[2]/div'\n",
    "2 video_num =     '/html/body/div[2]/div[3]/div[1]/div/div/div[1]/div[2]/div[3]/div'\n",
    "3 total_view =    '/html/body/div[2]/div[3]/div[1]/div/div/div[1]/div[2]/div[4]/div'\n",
    "4 vs_index =      '/html/body/div[2]/div[3]/div[1]/div/div/div[1]/div[2]/div[5]/div'\n",
    "5 vv_index =      '/html/body/div[2]/div[3]/div[1]/div/div/div[1]/div[2]/div[6]/div'\n",
    "6 cpi =           '/html/body/div[2]/div[3]/div[1]/div/div/div[1]/div[2]/div[7]/div'\n",
    "\n",
    "####################################\n",
    "\n",
    "0 channel_names = '/html/body/div[2]/div[3]/div[1]/div/div/div[2]/div/div[1]/div[2]/div'\n",
    "1 subscribers =   '/html/body/div[2]/div[3]/div[1]/div/div/div[2]/div/div[2]/div'\n",
    "2 video_num =     '/html/body/div[2]/div[3]/div[1]/div/div/div[2]/div/div[3]/div'\n",
    "\n",
    "0 channel_names = '/html/body/div[2]/div[3]/div[1]/div/div/div[3]/div/div[1]/div[2]/div'\n",
    "1 subscribers =   '/html/body/div[2]/div[3]/div[1]/div/div/div[3]/div/div[2]/div'"
   ]
  },
  {
   "cell_type": "code",
   "execution_count": 59,
   "metadata": {},
   "outputs": [
    {
     "name": "stdout",
     "output_type": "stream",
     "text": [
      "CSV 파일로 저장되었습니다.\n"
     ]
    }
   ],
   "source": [
    "# Ver.3 전체 페이지의 데이터는 다 추출 가능\n",
    "\n",
    "from selenium import webdriver\n",
    "from selenium.webdriver.common.by import By\n",
    "import time\n",
    "import pandas as pd\n",
    "\n",
    "# 크롬 드라이버 실행\n",
    "driver = webdriver.Chrome()\n",
    "\n",
    "# 로그인 페이지 열기\n",
    "driver.get(\"https://plpl.kr/\")\n",
    "\n",
    "# 사용자에게 로그인 대기\n",
    "input(\"로그인을 완료한 후 Enter를 누르세요...\")\n",
    "\n",
    "# 로그인 후 데이터 크롤링\n",
    "driver.get(\"https://plpl.kr/datalab/1732715075545x231278615038836840?tab=channel\")\n",
    "\n",
    "time.sleep(10)\n",
    "\n",
    "list_of_channels = []\n",
    "\n",
    "for i in range(300):\n",
    "    \n",
    "    channel = {}\n",
    "    \n",
    "    if i == 0:  # 첫 번째 행\n",
    "        for j in range(7):\n",
    "            if j == 0:  # 채널명\n",
    "                element = driver.find_element(By.XPATH, f'/html/body/div[2]/div[3]/div[1]/div/div/div[{i+1}]/div[2]/div[1]/div[2]/div')\n",
    "            else:\n",
    "                element = driver.find_element(By.XPATH, f'/html/body/div[2]/div[3]/div[1]/div/div/div[{i+1}]/div[2]/div[{j+1}]/div')\n",
    "            \n",
    "            data = element.text\n",
    "            \n",
    "            if isinstance(data, str) and data.replace(',', '').isdigit():\n",
    "                data = int(data.replace(',', ''))\n",
    "            \n",
    "            channel[j] = data\n",
    "        \n",
    "        list_of_channels.append(channel)\n",
    "\n",
    "\n",
    "\n",
    "    else:  # 두 번째 행 이하\n",
    "        for j in range(7):\n",
    "            if j == 0:  # 채널명\n",
    "                element = driver.find_element(By.XPATH, f'/html/body/div[2]/div[3]/div[1]/div/div/div[{i+1}]/div/div[1]/div[2]/div')\n",
    "            else:\n",
    "                element = driver.find_element(By.XPATH, f'/html/body/div[2]/div[3]/div[1]/div/div/div[{i+1}]/div/div[{j+1}]/div')\n",
    "            \n",
    "            data = element.text\n",
    "            \n",
    "            if isinstance(data, str) and data.replace(',', '').isdigit():\n",
    "                data = int(data.replace(',', ''))\n",
    "            \n",
    "            channel[j] = data\n",
    "        \n",
    "        list_of_channels.append(channel)\n",
    "\n",
    "    \n",
    "\n",
    "df = pd.DataFrame(list_of_channels)\n",
    "df.to_csv(\"youtube_channels.csv\", index=False, encoding=\"utf-8-sig\")\n",
    "print(\"CSV 파일로 저장되었습니다.\")\n"
   ]
  },
  {
   "cell_type": "code",
   "execution_count": null,
   "metadata": {},
   "outputs": [],
   "source": [
    "# genre_container =   'bubble-element RepeatingGroup cmppaU bubble-rg-flex-row'\n",
    "\n",
    "# genre0 =            '/html/body/div[6]/div/div[3]/div[2]/div[2]/div[1]/div[2]/div/div[1]/div'\n",
    "#                     'bubble-element Text cmppaV'\n",
    "\n",
    "# genre1 =            '/html/body/div[6]/div/div[3]/div[2]/div[2]/div[1]/div[2]/div/div[2]/div'\n",
    "#                     'bubble-element Text cmppaV'\n",
    "\n",
    "# genre2 =            '/html/body/div[6]/div/div[3]/div[2]/div[2]/div[1]/div[2]/div/div[3]/div'\n",
    "#                     'bubble-element Text cmppaV'"
   ]
  },
  {
   "cell_type": "code",
   "execution_count": null,
   "metadata": {},
   "outputs": [
    {
     "data": {
      "text/plain": [
       "[{0: '때껄룩ᴛᴀᴋᴇ ᴀ ʟᴏᴏᴋ',\n",
       "  1: 1930000,\n",
       "  2: 408,\n",
       "  3: 708387927,\n",
       "  4: 367,\n",
       "  5: 1736245,\n",
       "  6: 41120,\n",
       "  'genres': ['Folk (국외)',\n",
       "   'Pop (국외)',\n",
       "   'R&B / Soul (국외)',\n",
       "   'Rap / Hip-hop (국외)',\n",
       "   'Blues (국내)',\n",
       "   'Blues (국내)',\n",
       "   'R&B / Soul (국내)',\n",
       "   'Rap / Hip-hop (국내)',\n",
       "   'Dance (국내)'],\n",
       "  'moods': ['모든 분위기']}]"
      ]
     },
     "execution_count": 13,
     "metadata": {},
     "output_type": "execute_result"
    }
   ],
   "source": [
    "# Ver.4 세부 페이지 정보도 추출\n",
    "\n",
    "from selenium import webdriver\n",
    "from selenium.webdriver.common.by import By\n",
    "import time\n",
    "import pandas as pd\n",
    "from selenium.webdriver.common.keys import Keys\n",
    "\n",
    "\n",
    "# 크롬 드라이버 실행\n",
    "driver = webdriver.Chrome()\n",
    "\n",
    "# 로그인 페이지 열기\n",
    "driver.get(\"https://plpl.kr/\")\n",
    "\n",
    "# 사용자에게 로그인 대기\n",
    "input(\"로그인을 완료한 후 Enter를 누르세요...\")\n",
    "\n",
    "# 로그인 후 데이터 크롤링\n",
    "driver.get(\"https://plpl.kr/datalab/1732715075545x231278615038836840?tab=channel\")\n",
    "\n",
    "time.sleep(3)\n",
    "\n",
    "list_of_channels = []\n",
    "\n",
    "for i in range(1):\n",
    "    \n",
    "    channel = {}\n",
    "    \n",
    "    if i == 0:  # 첫 번째 행\n",
    "        for j in range(7):\n",
    "            if j == 0:  # 채널명\n",
    "                element = driver.find_element(By.XPATH, f'/html/body/div[2]/div[3]/div[1]/div/div/div[{i+1}]/div[2]/div[1]/div[2]/div')\n",
    "            else:\n",
    "                element = driver.find_element(By.XPATH, f'/html/body/div[2]/div[3]/div[1]/div/div/div[{i+1}]/div[2]/div[{j+1}]/div')\n",
    "            \n",
    "            data = element.text\n",
    "            \n",
    "            if isinstance(data, str) and data.replace(',', '').isdigit():\n",
    "                data = int(data.replace(',', ''))\n",
    "            \n",
    "            channel[j] = data\n",
    "        \n",
    "        \n",
    "        to_detail_page = driver.find_element(By.XPATH, f'/html/body/div[2]/div[3]/div[1]/div/div/div[{i+1}]/div[2]/div[1]/div[2]/div')\n",
    "        to_detail_page.click()\n",
    "\n",
    "        time.sleep(1)\n",
    "\n",
    "        # 부모 요소 기준으로 grandchild div 찾기\n",
    "        all_genres = driver.find_elements(By.CSS_SELECTOR, \".bubble-element.Text.cmppaV\")\n",
    "        channel['genres'] = [ genre.text for genre in all_genres ]\n",
    "\n",
    "        all_moods = driver.find_elements(By.CSS_SELECTOR, \".bubble-element.Text.cmppg\")\n",
    "        channel['moods'] = [ mood.text for mood in all_moods ]\n",
    "        \n",
    "        list_of_channels.append(channel)\n",
    "\n",
    "        body = driver.find_element(By.TAG_NAME, \"body\")  # 페이지의 전체 영역 선택\n",
    "        body.send_keys(Keys.ESCAPE)  # ESC 키 입력        \n",
    "\n",
    "list_of_channels"
   ]
  },
  {
   "cell_type": "markdown",
   "metadata": {},
   "source": [
    "## 크롤링 코드 완성\n",
    "- https://plpl.kr/ 데이터랩의 data를 크롤링하는 코드"
   ]
  },
  {
   "cell_type": "code",
   "execution_count": null,
   "metadata": {},
   "outputs": [
    {
     "name": "stderr",
     "output_type": "stream",
     "text": [
      "  0%|          | 0/497 [00:00<?, ?it/s]0.01s - Debugger warning: It seems that frozen modules are being used, which may\n",
      "0.00s - make the debugger miss breakpoints. Please pass -Xfrozen_modules=off\n",
      "0.00s - to python to disable frozen modules.\n",
      "0.00s - Note: Debugging will proceed. Set PYDEVD_DISABLE_FILE_VALIDATION=1 to disable this validation.\n",
      "100%|██████████| 497/497 [13:02<00:00,  1.57s/it]"
     ]
    },
    {
     "name": "stdout",
     "output_type": "stream",
     "text": [
      "CSV 파일로 저장되었습니다.\n"
     ]
    },
    {
     "name": "stderr",
     "output_type": "stream",
     "text": [
      "\n"
     ]
    }
   ],
   "source": [
    "# Ver.최종 전체 페이지 및 세부 페이지 데이터 모두 추출 가능\n",
    "\n",
    "from selenium import webdriver\n",
    "from selenium.webdriver.common.by import By\n",
    "import time\n",
    "import pandas as pd\n",
    "from tqdm import tqdm\n",
    "\n",
    "# 크롬 드라이버 실행\n",
    "driver = webdriver.Chrome()\n",
    "\n",
    "# 로그인 페이지 열기\n",
    "driver.get(\"https://plpl.kr/\")\n",
    "\n",
    "# 사용자에게 로그인 대기\n",
    "input(\"로그인을 완료한 후 Enter를 누르세요...\")\n",
    "\n",
    "# 로그인 후 데이터 크롤링\n",
    "driver.get(\"https://plpl.kr/datalab/1732715075545x231278615038836840?tab=channel\")\n",
    "\n",
    "time.sleep(30)\n",
    "\n",
    "list_of_channels = []\n",
    "\n",
    "for i in tqdm(range(497)):\n",
    "    \n",
    "    channel = {}\n",
    "    \n",
    "    if i == 0:  # 첫 번째 행\n",
    "        for j in range(7):\n",
    "            if j == 0:  # 채널명\n",
    "                element = driver.find_element(By.XPATH, f'/html/body/div[2]/div[3]/div[1]/div/div/div[{i+1}]/div[2]/div[1]/div[2]/div')\n",
    "            else:\n",
    "                element = driver.find_element(By.XPATH, f'/html/body/div[2]/div[3]/div[1]/div/div/div[{i+1}]/div[2]/div[{j+1}]/div')\n",
    "            \n",
    "            data = element.text\n",
    "            \n",
    "            if isinstance(data, str) and data.replace(',', '').isdigit():\n",
    "                data = int(data.replace(',', ''))\n",
    "            \n",
    "            channel[j] = data\n",
    "        \n",
    "        to_detail_page = driver.find_element(By.XPATH, f'/html/body/div[2]/div[3]/div[1]/div/div/div[{i+1}]/div[2]/div[1]/div[2]/div')\n",
    "        to_detail_page.click()\n",
    "\n",
    "        time.sleep(1)\n",
    "\n",
    "        # 부모 요소 기준으로 grandchild div 찾기\n",
    "        all_genres = driver.find_elements(By.CSS_SELECTOR, \".bubble-element.Text.cmppaV\")\n",
    "        channel['genres'] = [ genre.text for genre in all_genres ]\n",
    "\n",
    "        all_moods = driver.find_elements(By.CSS_SELECTOR, \".bubble-element.Text.cmppg\")\n",
    "        channel['moods'] = [ mood.text for mood in all_moods ]\n",
    "        \n",
    "        list_of_channels.append(channel)\n",
    "\n",
    "        body = driver.find_element(By.TAG_NAME, \"body\")  # 페이지의 전체 영역 선택\n",
    "        body.send_keys(Keys.ESCAPE)  # ESC 키 입력     \n",
    "\n",
    "\n",
    "\n",
    "    else:  # 두 번째 행 이하\n",
    "        for j in range(7):\n",
    "            if j == 0:  # 채널명\n",
    "                element = driver.find_element(By.XPATH, f'/html/body/div[2]/div[3]/div[1]/div/div/div[{i+1}]/div/div[1]/div[2]/div')\n",
    "            else:\n",
    "                element = driver.find_element(By.XPATH, f'/html/body/div[2]/div[3]/div[1]/div/div/div[{i+1}]/div/div[{j+1}]/div')\n",
    "            \n",
    "            data = element.text\n",
    "            \n",
    "            if isinstance(data, str) and data.replace(',', '').isdigit():\n",
    "                data = int(data.replace(',', ''))\n",
    "            \n",
    "            channel[j] = data\n",
    "        \n",
    "        to_detail_page = driver.find_element(By.XPATH, f'/html/body/div[2]/div[3]/div[1]/div/div/div[{i+1}]/div/div[1]/div[2]/div')\n",
    "        to_detail_page.click()\n",
    "\n",
    "        time.sleep(1)\n",
    "\n",
    "        # 부모 요소 기준으로 grandchild div 찾기\n",
    "        all_genres = driver.find_elements(By.CSS_SELECTOR, \".bubble-element.Text.cmppaV\")\n",
    "        channel['genres'] = [ genre.text for genre in all_genres ]\n",
    "\n",
    "        all_moods = driver.find_elements(By.CSS_SELECTOR, \".bubble-element.Text.cmppg\")\n",
    "        channel['moods'] = [ mood.text for mood in all_moods ]\n",
    "        \n",
    "        list_of_channels.append(channel)\n",
    "\n",
    "        body = driver.find_element(By.TAG_NAME, \"body\")  # 페이지의 전체 영역 선택\n",
    "        body.send_keys(Keys.ESCAPE)  # ESC 키 입력     \n",
    "\n",
    "\n",
    "\n",
    "df = pd.DataFrame(list_of_channels)\n",
    "df.to_csv(\"youtube_channels.csv\", index=False, encoding=\"utf-8-sig\")\n",
    "print(\"CSV 파일로 저장되었습니다.\")"
   ]
  },
  {
   "cell_type": "markdown",
   "metadata": {},
   "source": [
    "# 데이터 전처리 (실행 X)"
   ]
  },
  {
   "cell_type": "code",
   "execution_count": null,
   "metadata": {},
   "outputs": [
    {
     "data": {
      "text/html": [
       "<div>\n",
       "<style scoped>\n",
       "    .dataframe tbody tr th:only-of-type {\n",
       "        vertical-align: middle;\n",
       "    }\n",
       "\n",
       "    .dataframe tbody tr th {\n",
       "        vertical-align: top;\n",
       "    }\n",
       "\n",
       "    .dataframe thead th {\n",
       "        text-align: right;\n",
       "    }\n",
       "</style>\n",
       "<table border=\"1\" class=\"dataframe\">\n",
       "  <thead>\n",
       "    <tr style=\"text-align: right;\">\n",
       "      <th></th>\n",
       "      <th>0</th>\n",
       "      <th>1</th>\n",
       "      <th>2</th>\n",
       "      <th>3</th>\n",
       "      <th>4</th>\n",
       "      <th>5</th>\n",
       "      <th>6</th>\n",
       "      <th>genres</th>\n",
       "      <th>moods</th>\n",
       "    </tr>\n",
       "  </thead>\n",
       "  <tbody>\n",
       "    <tr>\n",
       "      <th>0</th>\n",
       "      <td>때껄룩ᴛᴀᴋᴇ ᴀ ʟᴏᴏᴋ</td>\n",
       "      <td>1930000.0</td>\n",
       "      <td>408.0</td>\n",
       "      <td>7.083879e+08</td>\n",
       "      <td>367.0</td>\n",
       "      <td>1736245.0</td>\n",
       "      <td>41120</td>\n",
       "      <td>['Folk (국외)', 'Pop (국외)', 'R&amp;B / Soul (국외)', '...</td>\n",
       "      <td>['모든 분위기']</td>\n",
       "    </tr>\n",
       "    <tr>\n",
       "      <th>1</th>\n",
       "      <td>때잉</td>\n",
       "      <td>1600000.0</td>\n",
       "      <td>534.0</td>\n",
       "      <td>1.456339e+09</td>\n",
       "      <td>910.0</td>\n",
       "      <td>2727226.0</td>\n",
       "      <td>-</td>\n",
       "      <td>['Pop (국외)', 'Dance (국내)', 'Folk (국내)', 'R&amp;B /...</td>\n",
       "      <td>['모든 분위기']</td>\n",
       "    </tr>\n",
       "    <tr>\n",
       "      <th>2</th>\n",
       "      <td>essential;</td>\n",
       "      <td>1420000.0</td>\n",
       "      <td>442.0</td>\n",
       "      <td>3.192029e+08</td>\n",
       "      <td>225.0</td>\n",
       "      <td>722179.0</td>\n",
       "      <td>26917</td>\n",
       "      <td>['Ballad (국내)', 'Pop (국외)', 'Rap / Hip-hop (국외...</td>\n",
       "      <td>['모든 분위기']</td>\n",
       "    </tr>\n",
       "    <tr>\n",
       "      <th>3</th>\n",
       "      <td>쏘플 soso playlist</td>\n",
       "      <td>1350000.0</td>\n",
       "      <td>349.0</td>\n",
       "      <td>1.004560e+09</td>\n",
       "      <td>744.0</td>\n",
       "      <td>2878396.0</td>\n",
       "      <td>149705</td>\n",
       "      <td>['OST (국내)', 'OST (국외)', 'Pop (국외)', 'R&amp;B / So...</td>\n",
       "      <td>['모든 분위기']</td>\n",
       "    </tr>\n",
       "    <tr>\n",
       "      <th>4</th>\n",
       "      <td>LQ KPOP</td>\n",
       "      <td>956000.0</td>\n",
       "      <td>63.0</td>\n",
       "      <td>1.596715e+08</td>\n",
       "      <td>167.0</td>\n",
       "      <td>2534469.0</td>\n",
       "      <td>50992</td>\n",
       "      <td>['Dance (국내)', '', '', '', '', '', '', '', '']</td>\n",
       "      <td>['행복', '다이내믹 템포', '몽환']</td>\n",
       "    </tr>\n",
       "    <tr>\n",
       "      <th>...</th>\n",
       "      <td>...</td>\n",
       "      <td>...</td>\n",
       "      <td>...</td>\n",
       "      <td>...</td>\n",
       "      <td>...</td>\n",
       "      <td>...</td>\n",
       "      <td>...</td>\n",
       "      <td>...</td>\n",
       "      <td>...</td>\n",
       "    </tr>\n",
       "    <tr>\n",
       "      <th>492</th>\n",
       "      <td>오슬로 O'slow</td>\n",
       "      <td>12.0</td>\n",
       "      <td>17.0</td>\n",
       "      <td>2.388000e+03</td>\n",
       "      <td>199.0</td>\n",
       "      <td>140.0</td>\n",
       "      <td>262</td>\n",
       "      <td>['New Age', '', '', '', '', '', '', '', '', ''...</td>\n",
       "      <td>['모든 분위기', '', '', '', '', '']</td>\n",
       "    </tr>\n",
       "    <tr>\n",
       "      <th>493</th>\n",
       "      <td>Piano Library</td>\n",
       "      <td>11.0</td>\n",
       "      <td>18.0</td>\n",
       "      <td>1.751000e+03</td>\n",
       "      <td>159.0</td>\n",
       "      <td>97.0</td>\n",
       "      <td>7</td>\n",
       "      <td>['New Age', '', '', '', '', '', '', '', '', ''...</td>\n",
       "      <td>['모든 분위기', '', '', '', '', '']</td>\n",
       "    </tr>\n",
       "    <tr>\n",
       "      <th>494</th>\n",
       "      <td>Low Espresso</td>\n",
       "      <td>8.0</td>\n",
       "      <td>10.0</td>\n",
       "      <td>5.690000e+02</td>\n",
       "      <td>71.0</td>\n",
       "      <td>57.0</td>\n",
       "      <td>6</td>\n",
       "      <td>['New Age', '', '', '', '', '', '', '', '', ''...</td>\n",
       "      <td>['모든 분위기', '', '', '', '', '']</td>\n",
       "    </tr>\n",
       "    <tr>\n",
       "      <th>495</th>\n",
       "      <td>Gardener 가드너</td>\n",
       "      <td>7.0</td>\n",
       "      <td>11.0</td>\n",
       "      <td>2.020000e+02</td>\n",
       "      <td>29.0</td>\n",
       "      <td>18.0</td>\n",
       "      <td>47</td>\n",
       "      <td>['New Age', '', '', '', '', '', '', '', '', ''...</td>\n",
       "      <td>['모든 분위기', '', '', '', '', '']</td>\n",
       "    </tr>\n",
       "    <tr>\n",
       "      <th>496</th>\n",
       "      <td>윤유화</td>\n",
       "      <td>3.0</td>\n",
       "      <td>23.0</td>\n",
       "      <td>4.239000e+03</td>\n",
       "      <td>1413.0</td>\n",
       "      <td>184.0</td>\n",
       "      <td>28</td>\n",
       "      <td>['New Age', '', '', '', '', '', '', '', '', ''...</td>\n",
       "      <td>['모든 분위기', '', '', '', '', '']</td>\n",
       "    </tr>\n",
       "  </tbody>\n",
       "</table>\n",
       "<p>497 rows × 9 columns</p>\n",
       "</div>"
      ],
      "text/plain": [
       "                    0          1      2             3       4          5  \\\n",
       "0      때껄룩ᴛᴀᴋᴇ ᴀ ʟᴏᴏᴋ  1930000.0  408.0  7.083879e+08   367.0  1736245.0   \n",
       "1                  때잉  1600000.0  534.0  1.456339e+09   910.0  2727226.0   \n",
       "2          essential;  1420000.0  442.0  3.192029e+08   225.0   722179.0   \n",
       "3    쏘플 soso playlist  1350000.0  349.0  1.004560e+09   744.0  2878396.0   \n",
       "4             LQ KPOP   956000.0   63.0  1.596715e+08   167.0  2534469.0   \n",
       "..                ...        ...    ...           ...     ...        ...   \n",
       "492        오슬로 O'slow       12.0   17.0  2.388000e+03   199.0      140.0   \n",
       "493     Piano Library       11.0   18.0  1.751000e+03   159.0       97.0   \n",
       "494      Low Espresso        8.0   10.0  5.690000e+02    71.0       57.0   \n",
       "495      Gardener 가드너        7.0   11.0  2.020000e+02    29.0       18.0   \n",
       "496               윤유화        3.0   23.0  4.239000e+03  1413.0      184.0   \n",
       "\n",
       "          6                                             genres  \\\n",
       "0     41120  ['Folk (국외)', 'Pop (국외)', 'R&B / Soul (국외)', '...   \n",
       "1         -  ['Pop (국외)', 'Dance (국내)', 'Folk (국내)', 'R&B /...   \n",
       "2     26917  ['Ballad (국내)', 'Pop (국외)', 'Rap / Hip-hop (국외...   \n",
       "3    149705  ['OST (국내)', 'OST (국외)', 'Pop (국외)', 'R&B / So...   \n",
       "4     50992     ['Dance (국내)', '', '', '', '', '', '', '', '']   \n",
       "..      ...                                                ...   \n",
       "492     262  ['New Age', '', '', '', '', '', '', '', '', ''...   \n",
       "493       7  ['New Age', '', '', '', '', '', '', '', '', ''...   \n",
       "494       6  ['New Age', '', '', '', '', '', '', '', '', ''...   \n",
       "495      47  ['New Age', '', '', '', '', '', '', '', '', ''...   \n",
       "496      28  ['New Age', '', '', '', '', '', '', '', '', ''...   \n",
       "\n",
       "                              moods  \n",
       "0                        ['모든 분위기']  \n",
       "1                        ['모든 분위기']  \n",
       "2                        ['모든 분위기']  \n",
       "3                        ['모든 분위기']  \n",
       "4           ['행복', '다이내믹 템포', '몽환']  \n",
       "..                              ...  \n",
       "492  ['모든 분위기', '', '', '', '', '']  \n",
       "493  ['모든 분위기', '', '', '', '', '']  \n",
       "494  ['모든 분위기', '', '', '', '', '']  \n",
       "495  ['모든 분위기', '', '', '', '', '']  \n",
       "496  ['모든 분위기', '', '', '', '', '']  \n",
       "\n",
       "[497 rows x 9 columns]"
      ]
     },
     "execution_count": 26,
     "metadata": {},
     "output_type": "execute_result"
    }
   ],
   "source": [
    "import pandas as pd\n",
    "data = pd.read_csv('youtube_channels.csv')\n",
    "data"
   ]
  },
  {
   "cell_type": "markdown",
   "metadata": {},
   "source": [
    "| 0             | 1           | 2         | 3          | 4        | 5        | 6   |\n",
    "|---------------|-------------|-----------|------------|----------|----------|-----|\n",
    "| channel_names | subscribers | video_num | total_view | vs_index | vv_index | cpi |\n",
    "\n"
   ]
  },
  {
   "cell_type": "code",
   "execution_count": 2,
   "metadata": {},
   "outputs": [
    {
     "name": "stdout",
     "output_type": "stream",
     "text": [
      "처리된 데이터가 'processed_youtube_channels.csv'로 저장되었습니다.\n"
     ]
    }
   ],
   "source": [
    "# 불필요한 공백 제거\n",
    "\n",
    "import pandas as pd\n",
    "\n",
    "df = pd.read_csv('youtube_channels.csv')\n",
    "\n",
    "# 공백 제거 함수\n",
    "def clean_empty_strings(column):\n",
    "    return column.apply(\n",
    "        lambda x: [item.strip() for item in eval(x) if item.strip()] if isinstance(x, str) else x\n",
    "    )\n",
    "\n",
    "# genres와 moods 열에서 공백 제거\n",
    "df['genres'] = clean_empty_strings(df['genres'])\n",
    "df['moods'] = clean_empty_strings(df['moods'])\n",
    "\n",
    "# 결과 확인\n",
    "df[['genres', 'moods']].head()\n",
    "\n",
    "# 처리된 데이터를 새로운 CSV 파일로 저장\n",
    "df.to_csv('processed_youtube_channels.csv', index=False, encoding='utf-8-sig')\n",
    "\n",
    "print(\"처리된 데이터가 'processed_youtube_channels.csv'로 저장되었습니다.\")"
   ]
  },
  {
   "cell_type": "code",
   "execution_count": 35,
   "metadata": {},
   "outputs": [],
   "source": [
    "# python 문법의 문자열 제거('[]', '''')\n",
    "\n",
    "df = pd.read_csv('processed_youtube_channels.csv')\n",
    "\n",
    "# Python 문법을 제거하는 함수\n",
    "def clean_python_syntax(column):\n",
    "    return column.apply(\n",
    "        lambda x: ', '.join(eval(x)) if isinstance(x, str) and x.startswith('[') else x\n",
    "    )\n",
    "\n",
    "# 'genres'와 'moods' 열 처리\n",
    "df['genres'] = clean_python_syntax(df['genres'])\n",
    "df['moods'] = clean_python_syntax(df['moods'])\n",
    "\n",
    "df.to_csv('py-syntax-cleaned_youtube_channels.csv', index=False, encoding='utf-8-sig')"
   ]
  },
  {
   "cell_type": "markdown",
   "metadata": {},
   "source": [
    "# 데이터 분석 (선택적 실행)"
   ]
  },
  {
   "cell_type": "markdown",
   "metadata": {},
   "source": [
    "### 전체 장르와 분위기 구하기"
   ]
  },
  {
   "cell_type": "code",
   "execution_count": 171,
   "metadata": {},
   "outputs": [
    {
     "name": "stdout",
     "output_type": "stream",
     "text": [
      "전체 장르가 텍스트 파일로 저장되었습니다!\n",
      "전체 분위기가 텍스트 파일로 저장되었습니다!\n",
      "{'기타', '어린이음악', 'Country', '뮤직테라피', 'R&B / Soul', 'Folk', 'New Age', 'CCM', 'EDM', 'Rock', 'Blues', 'Dance', 'Ballad', 'OST', '종교음악', 'Rap / Hip-hop', 'J-Pop', '트로트', 'Electronica', 'Jazz', '월드뮤직', 'Pop', 'Classic'}\n",
      "{'다이내믹 템포', '모든 분위기', '유쾌', '코믹', '평화로움', '어둠', '운동', '떠있는 느낌', '편안함', '슬픔', '섹시', '미스테리', '여유', '부드러움', '로맨틱', '몽환', '행진', '감성적', '차분함', '우아한', '희망', '행복'}\n"
     ]
    }
   ],
   "source": [
    "# 전체 장르와 분위기 구하기\n",
    "\n",
    "import pandas as pd\n",
    "import re\n",
    "\n",
    "\n",
    "\n",
    "# genres를 text 파일로 저장\n",
    "df = pd.read_csv(\"ver3_py-syntax-cleaned_youtube_channels.csv\")\n",
    "column_data = df[\"genres\"]\n",
    "column_data.to_csv(\"genres.txt\", index=False, header=False, sep=\"\\n\")\n",
    "print(\"전체 장르가 텍스트 파일로 저장되었습니다!\")\n",
    "\n",
    "# modds를 text 파일로 저장\n",
    "column_data = df[\"moods\"]\n",
    "column_data.to_csv(\"moods.txt\", index=False, header=False, sep=\"\\n\")\n",
    "print(\"전체 분위기가 텍스트 파일로 저장되었습니다!\")\n",
    "\n",
    "\n",
    "\n",
    "# 전체 장르 구하기\n",
    "genre_set = set()\n",
    "with open(\"genres.txt\", 'r', encoding='utf-8') as fp:\n",
    "    data = fp.read()  # 전체 텍스트를 읽음\n",
    "    matches = re.findall(r\"([\\w& /-]+)\\s*(?:\\(\\w+\\))?\", data)\n",
    "    for match in matches:\n",
    "        genre_set.add(match.strip())\n",
    "\n",
    "# 전체 분위기 구하기\n",
    "mood_set = set()\n",
    "with open(\"moods.txt\", 'r', encoding='utf-8') as fp:\n",
    "    data = fp.read()  # 전체 텍스트를 읽음\n",
    "    matches = re.findall(r\"([\\w& /-]+)\\s*(?:\\(\\w+\\))?\", data)\n",
    "    for match in matches:\n",
    "        mood_set.add(match.strip())\n",
    "\n",
    "\n",
    "# # 빈 문자열 제거\n",
    "# genre_set.remove(''); mood_set.remove('')\n",
    "\n",
    "print(genre_set)\n",
    "print(mood_set)"
   ]
  },
  {
   "cell_type": "markdown",
   "metadata": {},
   "source": [
    "# 온라인 강의 필기(실행 X)\n",
    "*reference*\n",
    "- https://youtu.be/TNcfJHajqJY?si=q2_-EN9Mo6TYASTJ\n",
    "- https://www.kaggle.com/code/ibtesama/getting-started-with-a-movie-recommendation-system"
   ]
  },
  {
   "cell_type": "code",
   "execution_count": 11,
   "metadata": {},
   "outputs": [],
   "source": [
    "import pandas as pd"
   ]
  },
  {
   "cell_type": "markdown",
   "metadata": {},
   "source": [
    "1. Demographic Filtering (인구통계학적 필터링)\n",
    "2. **Content Based Filtering (컨텐츠 기반 필터링)**\n",
    "3. Collaborative Filtering (협업 필터링)"
   ]
  },
  {
   "cell_type": "markdown",
   "metadata": {},
   "source": [
    "데이터 전처리\n",
    "- 대문자 -> 소문자: 한글 이슈로 보류\n",
    "- 띄어쓰기 제거"
   ]
  },
  {
   "cell_type": "code",
   "execution_count": 26,
   "metadata": {},
   "outputs": [
    {
     "data": {
      "text/html": [
       "<div>\n",
       "<style scoped>\n",
       "    .dataframe tbody tr th:only-of-type {\n",
       "        vertical-align: middle;\n",
       "    }\n",
       "\n",
       "    .dataframe tbody tr th {\n",
       "        vertical-align: top;\n",
       "    }\n",
       "\n",
       "    .dataframe thead th {\n",
       "        text-align: right;\n",
       "    }\n",
       "</style>\n",
       "<table border=\"1\" class=\"dataframe\">\n",
       "  <thead>\n",
       "    <tr style=\"text-align: right;\">\n",
       "      <th></th>\n",
       "      <th>0</th>\n",
       "      <th>6</th>\n",
       "      <th>genres</th>\n",
       "      <th>moods</th>\n",
       "    </tr>\n",
       "  </thead>\n",
       "  <tbody>\n",
       "    <tr>\n",
       "      <th>0</th>\n",
       "      <td>때껄룩ᴛᴀᴋᴇ ᴀ ʟᴏᴏᴋ</td>\n",
       "      <td>41120</td>\n",
       "      <td>['Folk (국외)', 'Pop (국외)', 'R&amp;B / Soul (국외)', '...</td>\n",
       "      <td>['모든 분위기']</td>\n",
       "    </tr>\n",
       "    <tr>\n",
       "      <th>1</th>\n",
       "      <td>때잉</td>\n",
       "      <td>-</td>\n",
       "      <td>['Pop (국외)', 'Dance (국내)', 'Folk (국내)', 'R&amp;B /...</td>\n",
       "      <td>['모든 분위기']</td>\n",
       "    </tr>\n",
       "    <tr>\n",
       "      <th>2</th>\n",
       "      <td>essential;</td>\n",
       "      <td>26917</td>\n",
       "      <td>['Ballad (국내)', 'Pop (국외)', 'Rap / Hip-hop (국외...</td>\n",
       "      <td>['모든 분위기']</td>\n",
       "    </tr>\n",
       "    <tr>\n",
       "      <th>3</th>\n",
       "      <td>쏘플 soso playlist</td>\n",
       "      <td>149705</td>\n",
       "      <td>['OST (국내)', 'OST (국외)', 'Pop (국외)', 'R&amp;B / So...</td>\n",
       "      <td>['모든 분위기']</td>\n",
       "    </tr>\n",
       "    <tr>\n",
       "      <th>4</th>\n",
       "      <td>LQ KPOP</td>\n",
       "      <td>50992</td>\n",
       "      <td>['Dance (국내)']</td>\n",
       "      <td>['행복', '다이내믹 템포', '몽환']</td>\n",
       "    </tr>\n",
       "    <tr>\n",
       "      <th>5</th>\n",
       "      <td>기몽초</td>\n",
       "      <td>26721</td>\n",
       "      <td>['Pop (국외)', 'R&amp;B / Soul (국외)', 'Dance (국내)', ...</td>\n",
       "      <td>['모든 분위기']</td>\n",
       "    </tr>\n",
       "    <tr>\n",
       "      <th>6</th>\n",
       "      <td>리플레이LEEPLAY</td>\n",
       "      <td>20139</td>\n",
       "      <td>['Blues (국외)', 'Country (국외)', 'Folk (국외)', 'P...</td>\n",
       "      <td>['모든 분위기']</td>\n",
       "    </tr>\n",
       "    <tr>\n",
       "      <th>7</th>\n",
       "      <td>네고막을책임져도될까</td>\n",
       "      <td>22806</td>\n",
       "      <td>['Blues (국외)', 'Country (국외)', 'Folk (국외)', 'P...</td>\n",
       "      <td>['모든 분위기']</td>\n",
       "    </tr>\n",
       "    <tr>\n",
       "      <th>8</th>\n",
       "      <td>H녀</td>\n",
       "      <td>40073</td>\n",
       "      <td>['Pop (국외)', 'R&amp;B / Soul (국외)', 'Folk (국외)', '...</td>\n",
       "      <td>['모든 분위기']</td>\n",
       "    </tr>\n",
       "    <tr>\n",
       "      <th>9</th>\n",
       "      <td>table w</td>\n",
       "      <td>24578</td>\n",
       "      <td>['Pop (국외)', 'R&amp;B / Soul (국외)', 'Folk (국외)', '...</td>\n",
       "      <td>['모든 분위기']</td>\n",
       "    </tr>\n",
       "  </tbody>\n",
       "</table>\n",
       "</div>"
      ],
      "text/plain": [
       "                  0       6  \\\n",
       "0    때껄룩ᴛᴀᴋᴇ ᴀ ʟᴏᴏᴋ   41120   \n",
       "1                때잉       -   \n",
       "2        essential;   26917   \n",
       "3  쏘플 soso playlist  149705   \n",
       "4           LQ KPOP   50992   \n",
       "5               기몽초   26721   \n",
       "6       리플레이LEEPLAY   20139   \n",
       "7        네고막을책임져도될까   22806   \n",
       "8                H녀   40073   \n",
       "9           table w   24578   \n",
       "\n",
       "                                              genres                    moods  \n",
       "0  ['Folk (국외)', 'Pop (국외)', 'R&B / Soul (국외)', '...               ['모든 분위기']  \n",
       "1  ['Pop (국외)', 'Dance (국내)', 'Folk (국내)', 'R&B /...               ['모든 분위기']  \n",
       "2  ['Ballad (국내)', 'Pop (국외)', 'Rap / Hip-hop (국외...               ['모든 분위기']  \n",
       "3  ['OST (국내)', 'OST (국외)', 'Pop (국외)', 'R&B / So...               ['모든 분위기']  \n",
       "4                                     ['Dance (국내)']  ['행복', '다이내믹 템포', '몽환']  \n",
       "5  ['Pop (국외)', 'R&B / Soul (국외)', 'Dance (국내)', ...               ['모든 분위기']  \n",
       "6  ['Blues (국외)', 'Country (국외)', 'Folk (국외)', 'P...               ['모든 분위기']  \n",
       "7  ['Blues (국외)', 'Country (국외)', 'Folk (국외)', 'P...               ['모든 분위기']  \n",
       "8  ['Pop (국외)', 'R&B / Soul (국외)', 'Folk (국외)', '...               ['모든 분위기']  \n",
       "9  ['Pop (국외)', 'R&B / Soul (국외)', 'Folk (국외)', '...               ['모든 분위기']  "
      ]
     },
     "execution_count": 26,
     "metadata": {},
     "output_type": "execute_result"
    }
   ],
   "source": [
    "df = pd.read_csv('processed_youtube_channels.csv')\n",
    "df[['0', '6', 'genres', 'moods']].head(10)"
   ]
  },
  {
   "cell_type": "code",
   "execution_count": 24,
   "metadata": {},
   "outputs": [
    {
     "data": {
      "text/html": [
       "<div>\n",
       "<style scoped>\n",
       "    .dataframe tbody tr th:only-of-type {\n",
       "        vertical-align: middle;\n",
       "    }\n",
       "\n",
       "    .dataframe tbody tr th {\n",
       "        vertical-align: top;\n",
       "    }\n",
       "\n",
       "    .dataframe thead th {\n",
       "        text-align: right;\n",
       "    }\n",
       "</style>\n",
       "<table border=\"1\" class=\"dataframe\">\n",
       "  <thead>\n",
       "    <tr style=\"text-align: right;\">\n",
       "      <th></th>\n",
       "      <th>0</th>\n",
       "    </tr>\n",
       "  </thead>\n",
       "  <tbody>\n",
       "    <tr>\n",
       "      <th>0</th>\n",
       "      <td>때껄룩ᴛᴀᴋᴇ ᴀ ʟᴏᴏᴋ</td>\n",
       "    </tr>\n",
       "    <tr>\n",
       "      <th>1</th>\n",
       "      <td>1930000.0</td>\n",
       "    </tr>\n",
       "    <tr>\n",
       "      <th>2</th>\n",
       "      <td>408.0</td>\n",
       "    </tr>\n",
       "    <tr>\n",
       "      <th>3</th>\n",
       "      <td>708387927.0</td>\n",
       "    </tr>\n",
       "    <tr>\n",
       "      <th>4</th>\n",
       "      <td>367.0</td>\n",
       "    </tr>\n",
       "    <tr>\n",
       "      <th>5</th>\n",
       "      <td>1736245.0</td>\n",
       "    </tr>\n",
       "    <tr>\n",
       "      <th>6</th>\n",
       "      <td>41120</td>\n",
       "    </tr>\n",
       "    <tr>\n",
       "      <th>genres</th>\n",
       "      <td>['Folk (국외)', 'Pop (국외)', 'R&amp;B / Soul (국외)', '...</td>\n",
       "    </tr>\n",
       "    <tr>\n",
       "      <th>moods</th>\n",
       "      <td>['모든 분위기']</td>\n",
       "    </tr>\n",
       "  </tbody>\n",
       "</table>\n",
       "</div>"
      ],
      "text/plain": [
       "                                                        0\n",
       "0                                          때껄룩ᴛᴀᴋᴇ ᴀ ʟᴏᴏᴋ\n",
       "1                                               1930000.0\n",
       "2                                                   408.0\n",
       "3                                             708387927.0\n",
       "4                                                   367.0\n",
       "5                                               1736245.0\n",
       "6                                                   41120\n",
       "genres  ['Folk (국외)', 'Pop (국외)', 'R&B / Soul (국외)', '...\n",
       "moods                                          ['모든 분위기']"
      ]
     },
     "execution_count": 24,
     "metadata": {},
     "output_type": "execute_result"
    }
   ],
   "source": [
    "df.iloc[0].to_frame()"
   ]
  },
  {
   "cell_type": "code",
   "execution_count": null,
   "metadata": {},
   "outputs": [],
   "source": [
    "def clean_data(x):\n",
    "    if isinstance(x, list):\n",
    "        return [str.lower(i.replace(' ', '')) for i in x]\n",
    "    else:\n",
    "        if isinstance(x, str):\n",
    "            return str.lower(x.replace(' ', ''))\n",
    "        else:\n",
    "            return ''"
   ]
  },
  {
   "cell_type": "markdown",
   "metadata": {},
   "source": [
    "# 모델 구상"
   ]
  },
  {
   "cell_type": "markdown",
   "metadata": {},
   "source": [
    "내가 가지고 있는 데이터\n",
    "\n",
    "| channel_names | subscribers | video_num | total_view | vs_index | vv_index | cpi | genres | moods |\n",
    "|---------------|-------------|-----------|------------|----------|----------|-----|--------|-------|\n",
    "| 0             | 1           | 2         | 3          | 4        | 5        | 6   | genres | moods |\n",
    "\n",
    "**Key features**\n",
    "- CPI(Channel Power Index)\n",
    "- genres\n",
    "- moods\n",
    "\n",
    "**방법**\n",
    "1. genres, moods를 soap로 만들어서 CountVectorizer를 활용해서 cosine similarity 측정(Content Based Filtering)\n",
    "\n",
    "2. CPI를 어떻게 활용할 수 있을까..."
   ]
  },
  {
   "cell_type": "markdown",
   "metadata": {},
   "source": [
    "# 모델 개발 (여기서부터 실행)\n",
    "`ver3_py-syntax-cleaned_youtube_channels.csv`가 같은 디렉토리에 있다고 가정"
   ]
  },
  {
   "cell_type": "code",
   "execution_count": 21,
   "metadata": {},
   "outputs": [],
   "source": [
    "import pandas as pd\n",
    "df = pd.read_csv('ver3_py-syntax-cleaned_youtube_channels.csv')"
   ]
  },
  {
   "cell_type": "markdown",
   "metadata": {},
   "source": [
    "## NaN 데이터 처리"
   ]
  },
  {
   "cell_type": "code",
   "execution_count": 16,
   "metadata": {},
   "outputs": [
    {
     "data": {
      "text/html": [
       "<div>\n",
       "<style scoped>\n",
       "    .dataframe tbody tr th:only-of-type {\n",
       "        vertical-align: middle;\n",
       "    }\n",
       "\n",
       "    .dataframe tbody tr th {\n",
       "        vertical-align: top;\n",
       "    }\n",
       "\n",
       "    .dataframe thead th {\n",
       "        text-align: right;\n",
       "    }\n",
       "</style>\n",
       "<table border=\"1\" class=\"dataframe\">\n",
       "  <thead>\n",
       "    <tr style=\"text-align: right;\">\n",
       "      <th></th>\n",
       "      <th>channel_name</th>\n",
       "      <th>subscribers</th>\n",
       "      <th>video_num</th>\n",
       "      <th>total_view</th>\n",
       "      <th>vs_index</th>\n",
       "      <th>vv_index</th>\n",
       "      <th>cpi</th>\n",
       "      <th>genres</th>\n",
       "      <th>moods</th>\n",
       "    </tr>\n",
       "  </thead>\n",
       "  <tbody>\n",
       "  </tbody>\n",
       "</table>\n",
       "</div>"
      ],
      "text/plain": [
       "Empty DataFrame\n",
       "Columns: [channel_name, subscribers, video_num, total_view, vs_index, vv_index, cpi, genres, moods]\n",
       "Index: []"
      ]
     },
     "execution_count": 16,
     "metadata": {},
     "output_type": "execute_result"
    }
   ],
   "source": [
    "df[df['genres'].isnull()]  # 아래 코드 실행 후 모두 처리되었는지 재실행해서 확인"
   ]
  },
  {
   "cell_type": "code",
   "execution_count": 22,
   "metadata": {},
   "outputs": [],
   "source": [
    "df['genres'] = df['genres'].fillna('')"
   ]
  },
  {
   "cell_type": "code",
   "execution_count": 18,
   "metadata": {},
   "outputs": [
    {
     "data": {
      "text/html": [
       "<div>\n",
       "<style scoped>\n",
       "    .dataframe tbody tr th:only-of-type {\n",
       "        vertical-align: middle;\n",
       "    }\n",
       "\n",
       "    .dataframe tbody tr th {\n",
       "        vertical-align: top;\n",
       "    }\n",
       "\n",
       "    .dataframe thead th {\n",
       "        text-align: right;\n",
       "    }\n",
       "</style>\n",
       "<table border=\"1\" class=\"dataframe\">\n",
       "  <thead>\n",
       "    <tr style=\"text-align: right;\">\n",
       "      <th></th>\n",
       "      <th>channel_name</th>\n",
       "      <th>subscribers</th>\n",
       "      <th>video_num</th>\n",
       "      <th>total_view</th>\n",
       "      <th>vs_index</th>\n",
       "      <th>vv_index</th>\n",
       "      <th>cpi</th>\n",
       "      <th>genres</th>\n",
       "      <th>moods</th>\n",
       "    </tr>\n",
       "  </thead>\n",
       "  <tbody>\n",
       "  </tbody>\n",
       "</table>\n",
       "</div>"
      ],
      "text/plain": [
       "Empty DataFrame\n",
       "Columns: [channel_name, subscribers, video_num, total_view, vs_index, vv_index, cpi, genres, moods]\n",
       "Index: []"
      ]
     },
     "execution_count": 18,
     "metadata": {},
     "output_type": "execute_result"
    }
   ],
   "source": [
    "df[df['moods'].isnull()]  # 아래 코드 실행 후 모두 처리되었는지 재실행해서 확인"
   ]
  },
  {
   "cell_type": "code",
   "execution_count": 23,
   "metadata": {},
   "outputs": [],
   "source": [
    "df['moods'] = df['moods'].fillna('')"
   ]
  },
  {
   "cell_type": "code",
   "execution_count": 24,
   "metadata": {},
   "outputs": [
    {
     "data": {
      "text/html": [
       "<div>\n",
       "<style scoped>\n",
       "    .dataframe tbody tr th:only-of-type {\n",
       "        vertical-align: middle;\n",
       "    }\n",
       "\n",
       "    .dataframe tbody tr th {\n",
       "        vertical-align: top;\n",
       "    }\n",
       "\n",
       "    .dataframe thead th {\n",
       "        text-align: right;\n",
       "    }\n",
       "</style>\n",
       "<table border=\"1\" class=\"dataframe\">\n",
       "  <thead>\n",
       "    <tr style=\"text-align: right;\">\n",
       "      <th></th>\n",
       "      <th>channel_name</th>\n",
       "      <th>cpi</th>\n",
       "      <th>genres</th>\n",
       "      <th>moods</th>\n",
       "    </tr>\n",
       "  </thead>\n",
       "  <tbody>\n",
       "    <tr>\n",
       "      <th>0</th>\n",
       "      <td>때껄룩ᴛᴀᴋᴇ ᴀ ʟᴏᴏᴋ</td>\n",
       "      <td>41120</td>\n",
       "      <td>Folk (국외), Pop (국외), R&amp;B / Soul (국외), Rap / Hi...</td>\n",
       "      <td>모든 분위기</td>\n",
       "    </tr>\n",
       "    <tr>\n",
       "      <th>1</th>\n",
       "      <td>때잉</td>\n",
       "      <td>-</td>\n",
       "      <td>Pop (국외), Dance (국내), Folk (국내), R&amp;B / Soul (국...</td>\n",
       "      <td>모든 분위기</td>\n",
       "    </tr>\n",
       "    <tr>\n",
       "      <th>2</th>\n",
       "      <td>essential;</td>\n",
       "      <td>26917</td>\n",
       "      <td>Ballad (국내), Pop (국외), Rap / Hip-hop (국외), R&amp;B...</td>\n",
       "      <td>모든 분위기</td>\n",
       "    </tr>\n",
       "    <tr>\n",
       "      <th>3</th>\n",
       "      <td>쏘플 soso playlist</td>\n",
       "      <td>149705</td>\n",
       "      <td>OST (국내), OST (국외), Pop (국외), R&amp;B / Soul (국외),...</td>\n",
       "      <td>모든 분위기</td>\n",
       "    </tr>\n",
       "    <tr>\n",
       "      <th>4</th>\n",
       "      <td>LQ KPOP</td>\n",
       "      <td>50992</td>\n",
       "      <td>Dance (국내)</td>\n",
       "      <td>행복, 다이내믹 템포, 몽환</td>\n",
       "    </tr>\n",
       "    <tr>\n",
       "      <th>...</th>\n",
       "      <td>...</td>\n",
       "      <td>...</td>\n",
       "      <td>...</td>\n",
       "      <td>...</td>\n",
       "    </tr>\n",
       "    <tr>\n",
       "      <th>492</th>\n",
       "      <td>오슬로 O'slow</td>\n",
       "      <td>262</td>\n",
       "      <td>New Age</td>\n",
       "      <td>모든 분위기</td>\n",
       "    </tr>\n",
       "    <tr>\n",
       "      <th>493</th>\n",
       "      <td>Piano Library</td>\n",
       "      <td>7</td>\n",
       "      <td>New Age</td>\n",
       "      <td>모든 분위기</td>\n",
       "    </tr>\n",
       "    <tr>\n",
       "      <th>494</th>\n",
       "      <td>Low Espresso</td>\n",
       "      <td>6</td>\n",
       "      <td>New Age</td>\n",
       "      <td>모든 분위기</td>\n",
       "    </tr>\n",
       "    <tr>\n",
       "      <th>495</th>\n",
       "      <td>Gardener 가드너</td>\n",
       "      <td>47</td>\n",
       "      <td>New Age</td>\n",
       "      <td>모든 분위기</td>\n",
       "    </tr>\n",
       "    <tr>\n",
       "      <th>496</th>\n",
       "      <td>윤유화</td>\n",
       "      <td>28</td>\n",
       "      <td>New Age</td>\n",
       "      <td>모든 분위기</td>\n",
       "    </tr>\n",
       "  </tbody>\n",
       "</table>\n",
       "<p>497 rows × 4 columns</p>\n",
       "</div>"
      ],
      "text/plain": [
       "         channel_name     cpi  \\\n",
       "0      때껄룩ᴛᴀᴋᴇ ᴀ ʟᴏᴏᴋ   41120   \n",
       "1                  때잉       -   \n",
       "2          essential;   26917   \n",
       "3    쏘플 soso playlist  149705   \n",
       "4             LQ KPOP   50992   \n",
       "..                ...     ...   \n",
       "492        오슬로 O'slow     262   \n",
       "493     Piano Library       7   \n",
       "494      Low Espresso       6   \n",
       "495      Gardener 가드너      47   \n",
       "496               윤유화      28   \n",
       "\n",
       "                                                genres            moods  \n",
       "0    Folk (국외), Pop (국외), R&B / Soul (국외), Rap / Hi...           모든 분위기  \n",
       "1    Pop (국외), Dance (국내), Folk (국내), R&B / Soul (국...           모든 분위기  \n",
       "2    Ballad (국내), Pop (국외), Rap / Hip-hop (국외), R&B...           모든 분위기  \n",
       "3    OST (국내), OST (국외), Pop (국외), R&B / Soul (국외),...           모든 분위기  \n",
       "4                                           Dance (국내)  행복, 다이내믹 템포, 몽환  \n",
       "..                                                 ...              ...  \n",
       "492                                            New Age           모든 분위기  \n",
       "493                                            New Age           모든 분위기  \n",
       "494                                            New Age           모든 분위기  \n",
       "495                                            New Age           모든 분위기  \n",
       "496                                            New Age           모든 분위기  \n",
       "\n",
       "[497 rows x 4 columns]"
      ]
     },
     "execution_count": 24,
     "metadata": {},
     "output_type": "execute_result"
    }
   ],
   "source": [
    "df[['channel_name', 'cpi', 'genres', 'moods']]"
   ]
  },
  {
   "cell_type": "code",
   "execution_count": 40,
   "metadata": {},
   "outputs": [
    {
     "data": {
      "text/plain": [
       "0       41120.0\n",
       "1              \n",
       "2       26917.0\n",
       "3      149705.0\n",
       "4       50992.0\n",
       "         ...   \n",
       "492       262.0\n",
       "493         7.0\n",
       "494         6.0\n",
       "495        47.0\n",
       "496        28.0\n",
       "Name: cpi, Length: 497, dtype: object"
      ]
     },
     "execution_count": 40,
     "metadata": {},
     "output_type": "execute_result"
    }
   ],
   "source": [
    "# cpi '-' 데이터 처리\n",
    "def cpi_clean(x):\n",
    "    # 처리 조건\n",
    "    if pd.isna(x) or x == '-' or x == '':\n",
    "        return ''  # 공백으로 처리\n",
    "    try:\n",
    "        # 값이 숫자라면 반환\n",
    "        return float(x)\n",
    "    except ValueError:\n",
    "        # 숫자가 아닌 경우 공백 반환\n",
    "        return ''\n",
    "    \n",
    "df['cpi'] = df['cpi'].apply(cpi_clean)\n",
    "\n",
    "df['cpi']"
   ]
  },
  {
   "cell_type": "markdown",
   "metadata": {},
   "source": [
    "## 채널-인덱스 매칭"
   ]
  },
  {
   "cell_type": "code",
   "execution_count": 26,
   "metadata": {},
   "outputs": [
    {
     "data": {
      "text/plain": [
       "channel_name\n",
       "때껄룩ᴛᴀᴋᴇ ᴀ ʟᴏᴏᴋ        0\n",
       "때잉                    1\n",
       "essential;            2\n",
       "쏘플 soso playlist      3\n",
       "LQ KPOP               4\n",
       "                   ... \n",
       "오슬로 O'slow          492\n",
       "Piano Library       493\n",
       "Low Espresso        494\n",
       "Gardener 가드너        495\n",
       "윤유화                 496\n",
       "Length: 497, dtype: int64"
      ]
     },
     "execution_count": 26,
     "metadata": {},
     "output_type": "execute_result"
    }
   ],
   "source": [
    "indices = pd.Series(df.index, index=df['channel_name']).drop_duplicates()\n",
    "indices"
   ]
  },
  {
   "cell_type": "code",
   "execution_count": 27,
   "metadata": {},
   "outputs": [
    {
     "data": {
      "text/plain": [
       "492"
      ]
     },
     "execution_count": 27,
     "metadata": {},
     "output_type": "execute_result"
    }
   ],
   "source": [
    "indices['오슬로 O\\'slow']"
   ]
  },
  {
   "cell_type": "code",
   "execution_count": 28,
   "metadata": {},
   "outputs": [
    {
     "data": {
      "text/plain": [
       "channel_name    오슬로 O'slow\n",
       "subscribers           12.0\n",
       "video_num             17.0\n",
       "total_view          2388.0\n",
       "vs_index             199.0\n",
       "vv_index             140.0\n",
       "cpi                    262\n",
       "genres             New Age\n",
       "moods               모든 분위기\n",
       "Name: 492, dtype: object"
      ]
     },
     "execution_count": 28,
     "metadata": {},
     "output_type": "execute_result"
    }
   ],
   "source": [
    "df.iloc[492]"
   ]
  },
  {
   "cell_type": "markdown",
   "metadata": {},
   "source": [
    "## genres, moods 리스트화"
   ]
  },
  {
   "cell_type": "code",
   "execution_count": 29,
   "metadata": {},
   "outputs": [],
   "source": [
    "# 기존 문자열이었던 genres와 moods 데이터를 python 리스트로 변환\n",
    "\n",
    "def make_list(x):\n",
    "    if isinstance(x, str):\n",
    "        return x.split(', ')\n",
    "    else:\n",
    "        return ''"
   ]
  },
  {
   "cell_type": "code",
   "execution_count": 30,
   "metadata": {},
   "outputs": [],
   "source": [
    "features = ['genres', 'moods']\n",
    "for feature in features:\n",
    "    df[feature] = df[feature].apply(make_list)"
   ]
  },
  {
   "cell_type": "code",
   "execution_count": 31,
   "metadata": {},
   "outputs": [
    {
     "name": "stdout",
     "output_type": "stream",
     "text": [
      "Folk (국외)\n",
      "Pop (국외)\n",
      "R&B / Soul (국외)\n",
      "Rap / Hip-hop (국외)\n",
      "Blues (국내)\n",
      "Blues (국내)\n",
      "R&B / Soul (국내)\n",
      "Rap / Hip-hop (국내)\n",
      "Dance (국내)\n"
     ]
    }
   ],
   "source": [
    "for i in df.loc[0]['genres']:\n",
    "    print(i)"
   ]
  },
  {
   "cell_type": "markdown",
   "metadata": {},
   "source": [
    "## 공백 제거, 대문자 -> 소문자"
   ]
  },
  {
   "cell_type": "code",
   "execution_count": 32,
   "metadata": {},
   "outputs": [
    {
     "data": {
      "text/plain": [
       "['나는한글이다.', '그렇다', \"i'm(englishman~)\"]"
      ]
     },
     "execution_count": 32,
     "metadata": {},
     "output_type": "execute_result"
    }
   ],
   "source": [
    "# 한글 테스트\n",
    "\n",
    "s = ['나는 한글이다.', '그 렇 다', 'I\\'m (English man~)']\n",
    "\n",
    "[str.lower(i.replace(' ', '')) for i in s]"
   ]
  },
  {
   "cell_type": "code",
   "execution_count": 33,
   "metadata": {},
   "outputs": [],
   "source": [
    "def clean_data(x):\n",
    "    if isinstance(x, list):\n",
    "        return [str.lower(i.replace(' ', '')) for i in x]\n",
    "    else:\n",
    "        if isinstance(x, str):\n",
    "            return str.lower(x.replace(' ', ''))\n",
    "        else:\n",
    "            return ''"
   ]
  },
  {
   "cell_type": "code",
   "execution_count": 34,
   "metadata": {},
   "outputs": [],
   "source": [
    "features = ['genres', 'moods']\n",
    "for feature in features:\n",
    "    df[feature] = df[feature].apply(clean_data)"
   ]
  },
  {
   "cell_type": "code",
   "execution_count": 35,
   "metadata": {},
   "outputs": [
    {
     "name": "stdout",
     "output_type": "stream",
     "text": [
      "folk(국외)\n",
      "pop(국외)\n",
      "r&b/soul(국외)\n",
      "rap/hip-hop(국외)\n",
      "blues(국내)\n",
      "blues(국내)\n",
      "r&b/soul(국내)\n",
      "rap/hip-hop(국내)\n",
      "dance(국내)\n"
     ]
    }
   ],
   "source": [
    "for i in df.loc[0]['genres']:\n",
    "    print(i)"
   ]
  },
  {
   "cell_type": "markdown",
   "metadata": {},
   "source": [
    "## Feature soup"
   ]
  },
  {
   "cell_type": "code",
   "execution_count": 36,
   "metadata": {},
   "outputs": [
    {
     "data": {
      "text/plain": [
       "0      folk(국외) pop(국외) r&b/soul(국외) rap/hip-hop(국외) ...\n",
       "1      pop(국외) dance(국내) folk(국내) r&b/soul(국내) r&b/so...\n",
       "2      ballad(국내) pop(국외) rap/hip-hop(국외) r&b/soul(국외...\n",
       "3      ost(국내) ost(국외) pop(국외) r&b/soul(국외) folk(국외) ...\n",
       "4                                 dance(국내) 행복 다이내믹템포 몽환\n",
       "                             ...                        \n",
       "492                                         newage 모든분위기\n",
       "493                                         newage 모든분위기\n",
       "494                                         newage 모든분위기\n",
       "495                                         newage 모든분위기\n",
       "496                                         newage 모든분위기\n",
       "Name: soup, Length: 497, dtype: object"
      ]
     },
     "execution_count": 36,
     "metadata": {},
     "output_type": "execute_result"
    }
   ],
   "source": [
    "def create_soup(x):\n",
    "    return ' '.join(x['genres']) + ' ' + ' '.join(x['moods'])\n",
    "df['soup'] = df.apply(create_soup, axis=1)\n",
    "df['soup']"
   ]
  },
  {
   "cell_type": "markdown",
   "metadata": {},
   "source": [
    "## Vectorize, Normalize 그리고 Cosine Similarity"
   ]
  },
  {
   "cell_type": "markdown",
   "metadata": {},
   "source": [
    "### 구조도\n",
    "\n",
    "- `genres` & `moods`\n",
    "    - soup 데이터를 Bag Of Words(BOW)를 활용해 각 키워드에 대해 vectorize\n",
    "    - matrix size: $\\text{채널 수} \\times \\text{키워드의 수}$\n",
    "\n",
    "- `cpi`\n",
    "    - 정규화를 진행하여 $[0, 1]$의 값으로 변환\n",
    "    - matrix size: $\\text{채널 수} \\times 1\\text{(채널의 CPI)}$\n",
    "\n",
    "두 행렬을 `hstack`을 통해 수평병합하여\n",
    "$$\n",
    "\\text{채널 수} \\times (\\text{키워드의 수} + 1\\text{(채널의 CPI)})\n",
    "$$\n",
    "의 `final marix` 생성 후 cosine similarity 계산"
   ]
  },
  {
   "cell_type": "code",
   "execution_count": null,
   "metadata": {},
   "outputs": [
    {
     "data": {
      "text/plain": [
       "<497x48 sparse matrix of type '<class 'numpy.int64'>'\n",
       "\twith 4218 stored elements in Compressed Sparse Row format>"
      ]
     },
     "execution_count": 37,
     "metadata": {},
     "output_type": "execute_result"
    }
   ],
   "source": [
    "# 장르와 분위기 Vectorize\n",
    "\n",
    "from sklearn.feature_extraction.text import CountVectorizer\n",
    "\n",
    "count = CountVectorizer(stop_words='english')\n",
    "count_matrix = count.fit_transform(df['soup'])\n",
    "count_matrix  # 497개의 채널에 대해 최대 48개의 feature(키워드)들이 존재"
   ]
  },
  {
   "cell_type": "code",
   "execution_count": null,
   "metadata": {},
   "outputs": [
    {
     "name": "stderr",
     "output_type": "stream",
     "text": [
      "/var/folders/9c/f3wtltg94mbfdg2h8hjccl8c0000gn/T/ipykernel_61182/275875664.py:6: FutureWarning: Downcasting behavior in `replace` is deprecated and will be removed in a future version. To retain the old behavior, explicitly call `result.infer_objects(copy=False)`. To opt-in to the future behavior, set `pd.set_option('future.no_silent_downcasting', True)`\n",
      "  df['cpi_cleaned'] = df['cpi'].replace('', 0).astype(float)\n"
     ]
    }
   ],
   "source": [
    "# CPI 정규화\n",
    "\n",
    "from sklearn.preprocessing import MinMaxScaler\n",
    "\n",
    "# NaN이나 공백을 0으로 대체\n",
    "df['cpi_cleaned'] = df['cpi'].replace('', 0).astype(float)\n",
    "\n",
    "# 정규화\n",
    "scaler = MinMaxScaler()\n",
    "df['cpi_normalized'] = scaler.fit_transform(df[['cpi_cleaned']])"
   ]
  },
  {
   "cell_type": "code",
   "execution_count": 45,
   "metadata": {},
   "outputs": [],
   "source": [
    "# 장르 & 분위기 matrix + cpi_normalized marix 결합\n",
    "\n",
    "from scipy.sparse import hstack\n",
    "import numpy as np\n",
    "\n",
    "cpi_matrix = np.array(df['cpi_normalized']).reshape(-1, 1)  # CPI 값을 2D 배열로 변환\n",
    "final_matrix = hstack([count_matrix, cpi_matrix])  # soup와 CPI를 결합"
   ]
  },
  {
   "cell_type": "code",
   "execution_count": 46,
   "metadata": {},
   "outputs": [
    {
     "data": {
      "text/plain": [
       "array([[1.        , 0.82917342, 0.79382375, ..., 0.08770551, 0.08770555,\n",
       "        0.08770553],\n",
       "       [0.82917342, 1.        , 0.77991751, ..., 0.13130643, 0.13130643,\n",
       "        0.13130643],\n",
       "       [0.79382375, 0.77991751, 1.        , ..., 0.14142083, 0.14142087,\n",
       "        0.14142086],\n",
       "       ...,\n",
       "       [0.08770551, 0.13130643, 0.14142083, ..., 1.        , 1.        ,\n",
       "        1.        ],\n",
       "       [0.08770555, 0.13130643, 0.14142087, ..., 1.        , 1.        ,\n",
       "        1.        ],\n",
       "       [0.08770553, 0.13130643, 0.14142086, ..., 1.        , 1.        ,\n",
       "        1.        ]])"
      ]
     },
     "execution_count": 46,
     "metadata": {},
     "output_type": "execute_result"
    }
   ],
   "source": [
    "# 코사인 유사도 계산\n",
    "\n",
    "from sklearn.metrics.pairwise import cosine_similarity\n",
    "cosine_sim = cosine_similarity(final_matrix, final_matrix)\n",
    "cosine_sim"
   ]
  },
  {
   "cell_type": "markdown",
   "metadata": {},
   "source": [
    "## Playlist 추천"
   ]
  },
  {
   "cell_type": "code",
   "execution_count": 47,
   "metadata": {},
   "outputs": [],
   "source": [
    "# 유튜브 플레이리스트 채널의 이름을 입력받으면 코사인 유사도를 통해서 가장 유사도가 높은 상위 10개의 채널 목록 반환\n",
    "def get_recommendations(channel_name, cosine_sim=cosine_sim):\n",
    "    # 채널을 통해서 전체 데이터 기준 그 채널의 index 값을 얻기\n",
    "    idx = indices[channel_name]\n",
    "    \n",
    "    # 코사인 유사도 매트릭스 (cosine_sim) 에서 idx 에 해당하는 데이터를 (idx, 유사도) 형태로 얻기\n",
    "    sim_scores = list(enumerate(cosine_sim[idx]))\n",
    "    \n",
    "    # 코사인 유사도 기준으로 내림차순 정렬\n",
    "    sim_scores = sorted(sim_scores, key=lambda x: x[1], reverse=True)\n",
    "    \n",
    "    # 자기 자신을 제외한 10개의 채널을 슬라이싱\n",
    "    sim_scores = sim_scores[1:11]\n",
    "    \n",
    "    print(sim_scores)  # 코사인 유사도 출력 출력\n",
    "    \n",
    "    # 추천 채널 목록 10개의 인덱스 정보 추출\n",
    "    channel_indices = [i[0] for i in sim_scores]\n",
    "    \n",
    "    # 인덱스 정보를 통해 채널 이름 추출\n",
    "    return df['channel_name'].iloc[channel_indices]"
   ]
  },
  {
   "cell_type": "code",
   "execution_count": 49,
   "metadata": {},
   "outputs": [
    {
     "name": "stdout",
     "output_type": "stream",
     "text": [
      "[(77, 0.9998381989165084), (99, 0.9204328391262048), (422, 0.894230921215137), (56, 0.8897989817775639), (114, 0.8739987201029548), (171, 0.8571725144637335), (143, 0.8550140777759789), (103, 0.8514697770490445), (464, 0.825714122887686), (1, 0.8168786748793994)]\n"
     ]
    },
    {
     "data": {
      "text/plain": [
       "77                     wave\n",
       "99          It's me. Hello.\n",
       "422           Moon's Moment\n",
       "56     호정 HOJUNG [𝐏𝐋𝐀𝐘𝐋𝐈𝐒𝐓]\n",
       "114          My Little Room\n",
       "171    Mellow Groovy Sounds\n",
       "143                   oof D\n",
       "103             라디안트RADIANT\n",
       "464             Let's Nomad\n",
       "1                        때잉\n",
       "Name: channel_name, dtype: object"
      ]
     },
     "execution_count": 49,
     "metadata": {},
     "output_type": "execute_result"
    }
   ],
   "source": [
    "get_recommendations('Sea Pearl', cosine_sim)"
   ]
  },
  {
   "cell_type": "code",
   "execution_count": 51,
   "metadata": {},
   "outputs": [
    {
     "data": {
      "text/plain": [
       "(channel_name                                              Sea Pearl\n",
       " subscribers                                                464000.0\n",
       " video_num                                                      68.0\n",
       " total_view                                               71602107.0\n",
       " vs_index                                                      154.0\n",
       " vv_index                                                  1052972.0\n",
       " cpi                                                        207368.0\n",
       " genres            [newage, classic, r&b/soul(국외), blues(국내), fol...\n",
       " moods                                                       [모든분위기]\n",
       " soup              newage classic r&b/soul(국외) blues(국내) folk(국내)...\n",
       " cpi_cleaned                                                207368.0\n",
       " cpi_normalized                                             0.105207\n",
       " Name: 13, dtype: object,\n",
       " channel_name                                                   wave\n",
       " subscribers                                                132000.0\n",
       " video_num                                                      82.0\n",
       " total_view                                               13770950.0\n",
       " vs_index                                                      104.0\n",
       " vv_index                                                   167938.0\n",
       " cpi                                                         30050.0\n",
       " genres            [newage, classic, r&b/soul(국외), blues(국내), fol...\n",
       " moods                                                       [모든분위기]\n",
       " soup              newage classic r&b/soul(국외) blues(국내) folk(국내)...\n",
       " cpi_cleaned                                                 30050.0\n",
       " cpi_normalized                                             0.015246\n",
       " Name: 77, dtype: object)"
      ]
     },
     "execution_count": 51,
     "metadata": {},
     "output_type": "execute_result"
    }
   ],
   "source": [
    "df.iloc[indices['Sea Pearl']], df.iloc[77]"
   ]
  },
  {
   "cell_type": "markdown",
   "metadata": {},
   "source": [
    "# Test\n",
    "`get_recommendations('채널_이름')`으로 좋아하는 유튜브 플레이리스트 채널과 유사한 채널 찾기\n",
    "\n",
    "- `df.iloc[indices['채널_이름']]`으로 채널 정보 자세히 보기"
   ]
  },
  {
   "cell_type": "code",
   "execution_count": null,
   "metadata": {},
   "outputs": [
    {
     "name": "stdout",
     "output_type": "stream",
     "text": [
      "[(6, 0.9999998571526504), (7, 0.9999997452984247), (124, 0.9897472509760578), (169, 0.9897096691774951), (205, 0.9858258641245872), (155, 0.9858258419668383), (146, 0.9824559416644968), (361, 0.9824558334476867), (37, 0.9824338632831643), (12, 0.9753614512825953)]\n"
     ]
    },
    {
     "data": {
      "text/plain": [
       "6               리플레이LEEPLAY\n",
       "7                네고막을책임져도될까\n",
       "124         사계 ꜰᴏᴜʀ sᴇᴀsᴏɴs\n",
       "169                     이저녁\n",
       "205            𝗠𝗨𝗠𝗜𝗚𝗘 Ι 뮤미지\n",
       "155                 about :\n",
       "146                    하얀 눈\n",
       "361      음악에사진한스푼(Music... \n",
       "37     맬러리 뮤직 Mallory Music\n",
       "12               직키(Zickii)\n",
       "Name: channel_name, dtype: object"
      ]
     },
     "execution_count": 52,
     "metadata": {},
     "output_type": "execute_result"
    }
   ],
   "source": [
    "get_recommendations('offweb')"
   ]
  },
  {
   "cell_type": "code",
   "execution_count": 53,
   "metadata": {},
   "outputs": [
    {
     "data": {
      "text/plain": [
       "(channel_name                                                 offweb\n",
       " subscribers                                                194000.0\n",
       " video_num                                                     173.0\n",
       " total_view                                               27245014.0\n",
       " vs_index                                                      140.0\n",
       " vv_index                                                   157486.0\n",
       " cpi                                                         12185.0\n",
       " genres            [jazz(국외), blues(국외), country(국외), folk(국외), p...\n",
       " moods                                                       [모든분위기]\n",
       " soup              jazz(국외) blues(국외) country(국외) folk(국외) pop(국외...\n",
       " cpi_cleaned                                                 12185.0\n",
       " cpi_normalized                                             0.006182\n",
       " Name: 36, dtype: object,\n",
       " channel_name                                            리플레이LEEPLAY\n",
       " subscribers                                                867000.0\n",
       " video_num                                                     280.0\n",
       " total_view                                              229103900.0\n",
       " vs_index                                                      264.0\n",
       " vv_index                                                   818228.0\n",
       " cpi                                                         20139.0\n",
       " genres            [blues(국외), country(국외), folk(국외), pop(국외), r&...\n",
       " moods                                                       [모든분위기]\n",
       " soup              blues(국외) country(국외) folk(국외) pop(국외) r&b/sou...\n",
       " cpi_cleaned                                                 20139.0\n",
       " cpi_normalized                                             0.010217\n",
       " Name: 6, dtype: object)"
      ]
     },
     "execution_count": 53,
     "metadata": {},
     "output_type": "execute_result"
    }
   ],
   "source": [
    "df.iloc[indices['offweb']], df.iloc[6]"
   ]
  },
  {
   "cell_type": "markdown",
   "metadata": {},
   "source": [
    "# To Web"
   ]
  },
  {
   "cell_type": "code",
   "execution_count": 65,
   "metadata": {},
   "outputs": [
    {
     "data": {
      "text/plain": [
       "0      때껄룩ᴛᴀᴋᴇ ᴀ ʟᴏᴏᴋ\n",
       "1                  때잉\n",
       "2          essential;\n",
       "3    쏘플 soso playlist\n",
       "4             LQ KPOP\n",
       "Name: channel_name, dtype: object"
      ]
     },
     "execution_count": 65,
     "metadata": {},
     "output_type": "execute_result"
    }
   ],
   "source": [
    "import pickle\n",
    "\n",
    "playlist_channels = df['channel_name'].copy()\n",
    "playlist_channels.head(5)"
   ]
  },
  {
   "cell_type": "code",
   "execution_count": 57,
   "metadata": {},
   "outputs": [],
   "source": [
    "pickle.dump(playlist_channels, open('playlist_channels.pickle', 'wb'))"
   ]
  },
  {
   "cell_type": "code",
   "execution_count": 56,
   "metadata": {},
   "outputs": [],
   "source": [
    "pickle.dump(cosine_sim, open('cosine_sim.pickle', 'wb'))"
   ]
  },
  {
   "cell_type": "code",
   "execution_count": 66,
   "metadata": {},
   "outputs": [
    {
     "data": {
      "text/plain": [
       "Index([13], dtype='int64')"
      ]
     },
     "execution_count": 66,
     "metadata": {},
     "output_type": "execute_result"
    }
   ],
   "source": [
    "channel_name = 'Sea Pearl'\n",
    "idx = playlist_channels[playlist_channels == channel_name].index\n",
    "idx"
   ]
  }
 ],
 "metadata": {
  "kernelspec": {
   "display_name": "base",
   "language": "python",
   "name": "python3"
  },
  "language_info": {
   "codemirror_mode": {
    "name": "ipython",
    "version": 3
   },
   "file_extension": ".py",
   "mimetype": "text/x-python",
   "name": "python",
   "nbconvert_exporter": "python",
   "pygments_lexer": "ipython3",
   "version": "3.12.4"
  }
 },
 "nbformat": 4,
 "nbformat_minor": 2
}
